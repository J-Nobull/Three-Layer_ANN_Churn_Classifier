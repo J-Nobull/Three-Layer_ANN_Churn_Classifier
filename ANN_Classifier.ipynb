{
  "nbformat": 4,
  "nbformat_minor": 0,
  "metadata": {
    "colab": {
      "provenance": []
    },
    "kernelspec": {
      "name": "python3",
      "display_name": "Python 3"
    },
    "language_info": {
      "name": "python"
    }
  },
  "cells": [
    {
      "cell_type": "markdown",
      "source": [
        "## Design a three-layer ANN classifier"
      ],
      "metadata": {
        "id": "ZYlXapbl8tGm"
      }
    },
    {
      "cell_type": "markdown",
      "source": [
        "# Set up environment"
      ],
      "metadata": {
        "id": "AvKAFNee9QJX"
      }
    },
    {
      "cell_type": "code",
      "source": [
        "import pandas as pd\n",
        "from sklearn.model_selection import train_test_split\n",
        "from sklearn.preprocessing import StandardScaler, LabelEncoder\n",
        "from sklearn.metrics import accuracy_score, confusion_matrix\n",
        "from tensorflow.keras.models import Sequential\n",
        "from tensorflow import keras\n",
        "from tensorflow.keras import layers\n",
        "from tensorflow.keras.layers import Dense"
      ],
      "metadata": {
        "id": "WYBUhNxuBxQU"
      },
      "execution_count": 38,
      "outputs": []
    },
    {
      "cell_type": "markdown",
      "source": [
        "#Load and inspect data"
      ],
      "metadata": {
        "id": "rlciQDig9Tj1"
      }
    },
    {
      "cell_type": "code",
      "source": [
        "churn = pd.read_csv('Churn_Modelling.csv')\n",
        "\n",
        "# Display basic information\n",
        "print(churn.shape)\n",
        "print('\\n')\n",
        "print(churn.describe())\n",
        "print('\\n')\n",
        "print(churn.info())"
      ],
      "metadata": {
        "colab": {
          "base_uri": "https://localhost:8080/"
        },
        "id": "bv_jbwVAB-9Y",
        "outputId": "3c9e93e8-f3fd-461e-dd57-c5f797a4cb39"
      },
      "execution_count": 39,
      "outputs": [
        {
          "output_type": "stream",
          "name": "stdout",
          "text": [
            "(10000, 14)\n",
            "\n",
            "\n",
            "         RowNumber    CustomerId   CreditScore           Age        Tenure  \\\n",
            "count  10000.00000  1.000000e+04  10000.000000  10000.000000  10000.000000   \n",
            "mean    5000.50000  1.569094e+07    650.528800     38.921800      5.012800   \n",
            "std     2886.89568  7.193619e+04     96.653299     10.487806      2.892174   \n",
            "min        1.00000  1.556570e+07    350.000000     18.000000      0.000000   \n",
            "25%     2500.75000  1.562853e+07    584.000000     32.000000      3.000000   \n",
            "50%     5000.50000  1.569074e+07    652.000000     37.000000      5.000000   \n",
            "75%     7500.25000  1.575323e+07    718.000000     44.000000      7.000000   \n",
            "max    10000.00000  1.581569e+07    850.000000     92.000000     10.000000   \n",
            "\n",
            "             Balance  NumOfProducts    HasCrCard  IsActiveMember  \\\n",
            "count   10000.000000   10000.000000  10000.00000    10000.000000   \n",
            "mean    76485.889288       1.530200      0.70550        0.515100   \n",
            "std     62397.405202       0.581654      0.45584        0.499797   \n",
            "min         0.000000       1.000000      0.00000        0.000000   \n",
            "25%         0.000000       1.000000      0.00000        0.000000   \n",
            "50%     97198.540000       1.000000      1.00000        1.000000   \n",
            "75%    127644.240000       2.000000      1.00000        1.000000   \n",
            "max    250898.090000       4.000000      1.00000        1.000000   \n",
            "\n",
            "       EstimatedSalary        Exited  \n",
            "count     10000.000000  10000.000000  \n",
            "mean     100090.239881      0.203700  \n",
            "std       57510.492818      0.402769  \n",
            "min          11.580000      0.000000  \n",
            "25%       51002.110000      0.000000  \n",
            "50%      100193.915000      0.000000  \n",
            "75%      149388.247500      0.000000  \n",
            "max      199992.480000      1.000000  \n",
            "\n",
            "\n",
            "<class 'pandas.core.frame.DataFrame'>\n",
            "RangeIndex: 10000 entries, 0 to 9999\n",
            "Data columns (total 14 columns):\n",
            " #   Column           Non-Null Count  Dtype  \n",
            "---  ------           --------------  -----  \n",
            " 0   RowNumber        10000 non-null  int64  \n",
            " 1   CustomerId       10000 non-null  int64  \n",
            " 2   Surname          10000 non-null  object \n",
            " 3   CreditScore      10000 non-null  int64  \n",
            " 4   Geography        10000 non-null  object \n",
            " 5   Gender           10000 non-null  object \n",
            " 6   Age              10000 non-null  int64  \n",
            " 7   Tenure           10000 non-null  int64  \n",
            " 8   Balance          10000 non-null  float64\n",
            " 9   NumOfProducts    10000 non-null  int64  \n",
            " 10  HasCrCard        10000 non-null  int64  \n",
            " 11  IsActiveMember   10000 non-null  int64  \n",
            " 12  EstimatedSalary  10000 non-null  float64\n",
            " 13  Exited           10000 non-null  int64  \n",
            "dtypes: float64(2), int64(9), object(3)\n",
            "memory usage: 1.1+ MB\n",
            "None\n"
          ]
        }
      ]
    },
    {
      "cell_type": "markdown",
      "source": [
        "#Clean data"
      ],
      "metadata": {
        "id": "TtM4CZeEEXiw"
      }
    },
    {
      "cell_type": "code",
      "source": [
        "# Drop identifying columns\n",
        "churn = churn.drop(['RowNumber', 'CustomerId', 'Surname'], axis=1)\n",
        "\n",
        "# Encode 'Gender' (binary category)\n",
        "churn['Gender'] = LabelEncoder().fit_transform(churn['Gender'])\n",
        "\n",
        "# One-hot encode 'Geography' (multi-category)\n",
        "churn = pd.get_dummies(churn, columns=['Geography'], drop_first=True)\n",
        "\n",
        "print(churn.describe())"
      ],
      "metadata": {
        "colab": {
          "base_uri": "https://localhost:8080/"
        },
        "id": "Ryp-n1K3OdRT",
        "outputId": "7ef8f1dd-652f-4a2f-b183-cd4bd219eadb"
      },
      "execution_count": 40,
      "outputs": [
        {
          "output_type": "stream",
          "name": "stdout",
          "text": [
            "        CreditScore        Gender           Age        Tenure        Balance  \\\n",
            "count  10000.000000  10000.000000  10000.000000  10000.000000   10000.000000   \n",
            "mean     650.528800      0.545700     38.921800      5.012800   76485.889288   \n",
            "std       96.653299      0.497932     10.487806      2.892174   62397.405202   \n",
            "min      350.000000      0.000000     18.000000      0.000000       0.000000   \n",
            "25%      584.000000      0.000000     32.000000      3.000000       0.000000   \n",
            "50%      652.000000      1.000000     37.000000      5.000000   97198.540000   \n",
            "75%      718.000000      1.000000     44.000000      7.000000  127644.240000   \n",
            "max      850.000000      1.000000     92.000000     10.000000  250898.090000   \n",
            "\n",
            "       NumOfProducts    HasCrCard  IsActiveMember  EstimatedSalary  \\\n",
            "count   10000.000000  10000.00000    10000.000000     10000.000000   \n",
            "mean        1.530200      0.70550        0.515100    100090.239881   \n",
            "std         0.581654      0.45584        0.499797     57510.492818   \n",
            "min         1.000000      0.00000        0.000000        11.580000   \n",
            "25%         1.000000      0.00000        0.000000     51002.110000   \n",
            "50%         1.000000      1.00000        1.000000    100193.915000   \n",
            "75%         2.000000      1.00000        1.000000    149388.247500   \n",
            "max         4.000000      1.00000        1.000000    199992.480000   \n",
            "\n",
            "             Exited  \n",
            "count  10000.000000  \n",
            "mean       0.203700  \n",
            "std        0.402769  \n",
            "min        0.000000  \n",
            "25%        0.000000  \n",
            "50%        0.000000  \n",
            "75%        0.000000  \n",
            "max        1.000000  \n"
          ]
        }
      ]
    },
    {
      "cell_type": "markdown",
      "source": [
        "#Split into Train(80%) and Test(20%)"
      ],
      "metadata": {
        "id": "SqL1KKrgaTWY"
      }
    },
    {
      "cell_type": "code",
      "source": [
        "# Split features and target\n",
        "X = churn.drop('Exited', axis=1)\n",
        "y = churn['Exited']\n",
        "\n",
        "# Train/test split\n",
        "X_train, X_test, y_train, y_test = train_test_split(\n",
        "              X, y, test_size=0.2, random_state=680)"
      ],
      "metadata": {
        "id": "0fotFAJEbgls"
      },
      "execution_count": 41,
      "outputs": []
    },
    {
      "cell_type": "markdown",
      "source": [
        "#Feature Scaling"
      ],
      "metadata": {
        "id": "FVXs3UfQt-4-"
      }
    },
    {
      "cell_type": "code",
      "source": [
        "# Standardize features\n",
        "scaler = StandardScaler()\n",
        "X_train_scale = scaler.fit_transform(X_train)\n",
        "X_test_scaled = scaler.transform(X_test)"
      ],
      "metadata": {
        "id": "O4SQw0lQuDlM"
      },
      "execution_count": 42,
      "outputs": []
    },
    {
      "cell_type": "markdown",
      "source": [
        "#Build ANN model"
      ],
      "metadata": {
        "id": "kJfp4Viq3n58"
      }
    },
    {
      "cell_type": "code",
      "source": [
        "# Build the model\n",
        "model = keras.Sequential([\n",
        "    keras.Input(shape=(X_train_scale.shape[1],)),\n",
        "    layers.Dense(units=16, activation='relu'),\n",
        "    layers.Dense(units=16, activation='relu'),\n",
        "    layers.Dense(units=1, activation='sigmoid')])\n",
        "\n",
        "# Compile the model\n",
        "model.compile(optimizer='adam',\n",
        "              loss='binary_crossentropy',\n",
        "              metrics=['accuracy'])\n",
        "\n",
        "# Train the model\n",
        "model.fit(X_train_scale, y_train, epochs=50, batch_size=32, verbose=0)"
      ],
      "metadata": {
        "colab": {
          "base_uri": "https://localhost:8080/"
        },
        "id": "dHtc4qln3k7Y",
        "outputId": "559d6bc1-92ae-4325-d986-2c74b079c3cd"
      },
      "execution_count": 45,
      "outputs": [
        {
          "output_type": "execute_result",
          "data": {
            "text/plain": [
              "<keras.src.callbacks.history.History at 0x7abdcc932990>"
            ]
          },
          "metadata": {},
          "execution_count": 45
        }
      ]
    },
    {
      "cell_type": "markdown",
      "source": [
        "#Evaluate model"
      ],
      "metadata": {
        "id": "8alILd1iIXfq"
      }
    },
    {
      "cell_type": "code",
      "source": [
        "# Evaluate the model\n",
        "y_pred = (model.predict(X_test_scaled) > 0.5)\n",
        "\n",
        "# Display\n",
        "print(\"Accuracy:\", accuracy_score(y_test, y_pred))\n",
        "print(\"Confusion Matrix:\\n\", confusion_matrix(y_test, y_pred))"
      ],
      "metadata": {
        "colab": {
          "base_uri": "https://localhost:8080/"
        },
        "id": "9Y16rMM6Iag5",
        "outputId": "16fd898c-76cc-4404-d9bc-50879fe5adc0"
      },
      "execution_count": 46,
      "outputs": [
        {
          "output_type": "stream",
          "name": "stdout",
          "text": [
            "\u001b[1m63/63\u001b[0m \u001b[32m━━━━━━━━━━━━━━━━━━━━\u001b[0m\u001b[37m\u001b[0m \u001b[1m0s\u001b[0m 3ms/step\n",
            "Accuracy: 0.8535\n",
            "Confusion Matrix:\n",
            " [[1519   80]\n",
            " [ 213  188]]\n"
          ]
        }
      ]
    },
    {
      "cell_type": "markdown",
      "source": [
        "#END"
      ],
      "metadata": {
        "id": "W3TEq1PB9vPp"
      }
    }
  ]
}
